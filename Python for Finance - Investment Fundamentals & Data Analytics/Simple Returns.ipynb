{
 "cells": [
  {
   "cell_type": "code",
   "execution_count": 1,
   "metadata": {
    "collapsed": true
   },
   "outputs": [],
   "source": [
    "import numpy as np\n",
    "from pandas_datareader import data as wb\n",
    "import matplotlib.pyplot as plt"
   ]
  },
  {
   "cell_type": "code",
   "execution_count": 22,
   "metadata": {
    "collapsed": true
   },
   "outputs": [],
   "source": [
    "NVDA = wb.DataReader('NVDA', data_source = 'yahoo', start = '2016-1-1')"
   ]
  },
  {
   "cell_type": "code",
   "execution_count": 23,
   "metadata": {},
   "outputs": [
    {
     "data": {
      "text/html": [
       "<div>\n",
       "<style>\n",
       "    .dataframe thead tr:only-child th {\n",
       "        text-align: right;\n",
       "    }\n",
       "\n",
       "    .dataframe thead th {\n",
       "        text-align: left;\n",
       "    }\n",
       "\n",
       "    .dataframe tbody tr th {\n",
       "        vertical-align: top;\n",
       "    }\n",
       "</style>\n",
       "<table border=\"1\" class=\"dataframe\">\n",
       "  <thead>\n",
       "    <tr style=\"text-align: right;\">\n",
       "      <th></th>\n",
       "      <th>Open</th>\n",
       "      <th>High</th>\n",
       "      <th>Low</th>\n",
       "      <th>Close</th>\n",
       "      <th>Adj Close</th>\n",
       "      <th>Volume</th>\n",
       "    </tr>\n",
       "    <tr>\n",
       "      <th>Date</th>\n",
       "      <th></th>\n",
       "      <th></th>\n",
       "      <th></th>\n",
       "      <th></th>\n",
       "      <th></th>\n",
       "      <th></th>\n",
       "    </tr>\n",
       "  </thead>\n",
       "  <tbody>\n",
       "    <tr>\n",
       "      <th>2016-01-04</th>\n",
       "      <td>32.290001</td>\n",
       "      <td>32.580002</td>\n",
       "      <td>32.040001</td>\n",
       "      <td>32.369999</td>\n",
       "      <td>31.959547</td>\n",
       "      <td>8951900</td>\n",
       "    </tr>\n",
       "    <tr>\n",
       "      <th>2016-01-05</th>\n",
       "      <td>32.980000</td>\n",
       "      <td>33.439999</td>\n",
       "      <td>32.500000</td>\n",
       "      <td>32.889999</td>\n",
       "      <td>32.472950</td>\n",
       "      <td>12256800</td>\n",
       "    </tr>\n",
       "    <tr>\n",
       "      <th>2016-01-06</th>\n",
       "      <td>32.349998</td>\n",
       "      <td>32.500000</td>\n",
       "      <td>31.160000</td>\n",
       "      <td>31.530001</td>\n",
       "      <td>31.130199</td>\n",
       "      <td>11233600</td>\n",
       "    </tr>\n",
       "    <tr>\n",
       "      <th>2016-01-07</th>\n",
       "      <td>30.740000</td>\n",
       "      <td>30.950001</td>\n",
       "      <td>29.879999</td>\n",
       "      <td>30.280001</td>\n",
       "      <td>29.896048</td>\n",
       "      <td>16132600</td>\n",
       "    </tr>\n",
       "    <tr>\n",
       "      <th>2016-01-08</th>\n",
       "      <td>30.670000</td>\n",
       "      <td>30.700001</td>\n",
       "      <td>29.570000</td>\n",
       "      <td>29.629999</td>\n",
       "      <td>29.254288</td>\n",
       "      <td>9961800</td>\n",
       "    </tr>\n",
       "  </tbody>\n",
       "</table>\n",
       "</div>"
      ],
      "text/plain": [
       "                 Open       High        Low      Close  Adj Close    Volume\n",
       "Date                                                                       \n",
       "2016-01-04  32.290001  32.580002  32.040001  32.369999  31.959547   8951900\n",
       "2016-01-05  32.980000  33.439999  32.500000  32.889999  32.472950  12256800\n",
       "2016-01-06  32.349998  32.500000  31.160000  31.530001  31.130199  11233600\n",
       "2016-01-07  30.740000  30.950001  29.879999  30.280001  29.896048  16132600\n",
       "2016-01-08  30.670000  30.700001  29.570000  29.629999  29.254288   9961800"
      ]
     },
     "execution_count": 23,
     "metadata": {},
     "output_type": "execute_result"
    }
   ],
   "source": [
    "NVDA.head()"
   ]
  },
  {
   "cell_type": "code",
   "execution_count": 24,
   "metadata": {},
   "outputs": [
    {
     "data": {
      "text/html": [
       "<div>\n",
       "<style>\n",
       "    .dataframe thead tr:only-child th {\n",
       "        text-align: right;\n",
       "    }\n",
       "\n",
       "    .dataframe thead th {\n",
       "        text-align: left;\n",
       "    }\n",
       "\n",
       "    .dataframe tbody tr th {\n",
       "        vertical-align: top;\n",
       "    }\n",
       "</style>\n",
       "<table border=\"1\" class=\"dataframe\">\n",
       "  <thead>\n",
       "    <tr style=\"text-align: right;\">\n",
       "      <th></th>\n",
       "      <th>Open</th>\n",
       "      <th>High</th>\n",
       "      <th>Low</th>\n",
       "      <th>Close</th>\n",
       "      <th>Adj Close</th>\n",
       "      <th>Volume</th>\n",
       "    </tr>\n",
       "    <tr>\n",
       "      <th>Date</th>\n",
       "      <th></th>\n",
       "      <th></th>\n",
       "      <th></th>\n",
       "      <th></th>\n",
       "      <th></th>\n",
       "      <th></th>\n",
       "    </tr>\n",
       "  </thead>\n",
       "  <tbody>\n",
       "    <tr>\n",
       "      <th>2017-10-16</th>\n",
       "      <td>195.800003</td>\n",
       "      <td>198.050003</td>\n",
       "      <td>193.240005</td>\n",
       "      <td>197.929993</td>\n",
       "      <td>197.929993</td>\n",
       "      <td>14416000</td>\n",
       "    </tr>\n",
       "    <tr>\n",
       "      <th>2017-10-17</th>\n",
       "      <td>197.089996</td>\n",
       "      <td>198.899994</td>\n",
       "      <td>196.350006</td>\n",
       "      <td>197.750000</td>\n",
       "      <td>197.750000</td>\n",
       "      <td>11964900</td>\n",
       "    </tr>\n",
       "    <tr>\n",
       "      <th>2017-10-18</th>\n",
       "      <td>198.110001</td>\n",
       "      <td>198.139999</td>\n",
       "      <td>193.320007</td>\n",
       "      <td>197.580002</td>\n",
       "      <td>197.580002</td>\n",
       "      <td>14182900</td>\n",
       "    </tr>\n",
       "    <tr>\n",
       "      <th>2017-10-19</th>\n",
       "      <td>194.440002</td>\n",
       "      <td>198.000000</td>\n",
       "      <td>192.449997</td>\n",
       "      <td>197.800003</td>\n",
       "      <td>197.800003</td>\n",
       "      <td>14269300</td>\n",
       "    </tr>\n",
       "    <tr>\n",
       "      <th>2017-10-20</th>\n",
       "      <td>198.490005</td>\n",
       "      <td>199.589996</td>\n",
       "      <td>196.539993</td>\n",
       "      <td>196.899994</td>\n",
       "      <td>196.899994</td>\n",
       "      <td>11111300</td>\n",
       "    </tr>\n",
       "  </tbody>\n",
       "</table>\n",
       "</div>"
      ],
      "text/plain": [
       "                  Open        High         Low       Close   Adj Close  \\\n",
       "Date                                                                     \n",
       "2017-10-16  195.800003  198.050003  193.240005  197.929993  197.929993   \n",
       "2017-10-17  197.089996  198.899994  196.350006  197.750000  197.750000   \n",
       "2017-10-18  198.110001  198.139999  193.320007  197.580002  197.580002   \n",
       "2017-10-19  194.440002  198.000000  192.449997  197.800003  197.800003   \n",
       "2017-10-20  198.490005  199.589996  196.539993  196.899994  196.899994   \n",
       "\n",
       "              Volume  \n",
       "Date                  \n",
       "2017-10-16  14416000  \n",
       "2017-10-17  11964900  \n",
       "2017-10-18  14182900  \n",
       "2017-10-19  14269300  \n",
       "2017-10-20  11111300  "
      ]
     },
     "execution_count": 24,
     "metadata": {},
     "output_type": "execute_result"
    }
   ],
   "source": [
    "NVDA.tail()"
   ]
  },
  {
   "cell_type": "code",
   "execution_count": 25,
   "metadata": {},
   "outputs": [
    {
     "name": "stdout",
     "output_type": "stream",
     "text": [
      "Date\n",
      "2016-01-04         NaN\n",
      "2016-01-05    0.016064\n",
      "2016-01-06   -0.041350\n",
      "2016-01-07   -0.039645\n",
      "2016-01-08   -0.021466\n",
      "2016-01-11    0.001688\n",
      "2016-01-12    0.016846\n",
      "2016-01-13   -0.030484\n",
      "2016-01-14   -0.020164\n",
      "2016-01-15   -0.054412\n",
      "2016-01-19    0.008115\n",
      "2016-01-20    0.005488\n",
      "2016-01-21    0.011645\n",
      "2016-01-22    0.023381\n",
      "2016-01-25   -0.001054\n",
      "2016-01-26    0.009852\n",
      "2016-01-27   -0.011847\n",
      "2016-01-28   -0.010931\n",
      "2016-01-29    0.044207\n",
      "2016-02-01    0.000341\n",
      "2016-02-02   -0.042321\n",
      "2016-02-03    0.004989\n",
      "2016-02-04    0.000355\n",
      "2016-02-05   -0.063098\n",
      "2016-02-08   -0.045781\n",
      "2016-02-09    0.010706\n",
      "2016-02-10   -0.002354\n",
      "2016-02-11   -0.005112\n",
      "2016-02-12    0.016996\n",
      "2016-02-16    0.048970\n",
      "                ...   \n",
      "2017-09-11    0.032439\n",
      "2017-09-12    0.003609\n",
      "2017-09-13    0.004481\n",
      "2017-09-14   -0.005693\n",
      "2017-09-15    0.063223\n",
      "2017-09-18    0.041308\n",
      "2017-09-19   -0.001066\n",
      "2017-09-20   -0.008060\n",
      "2017-09-21   -0.027335\n",
      "2017-09-22   -0.009737\n",
      "2017-09-25   -0.044693\n",
      "2017-09-26    0.005614\n",
      "2017-09-27    0.021924\n",
      "2017-09-28   -0.000285\n",
      "2017-09-29    0.017589\n",
      "2017-10-02    0.001287\n",
      "2017-10-03    0.002067\n",
      "2017-10-04    0.008363\n",
      "2017-10-05   -0.000553\n",
      "2017-10-06    0.002932\n",
      "2017-10-09    0.022559\n",
      "2017-10-10    0.019095\n",
      "2017-10-11    0.010639\n",
      "2017-10-12    0.000471\n",
      "2017-10-13    0.018636\n",
      "2017-10-16    0.017164\n",
      "2017-10-17   -0.000909\n",
      "2017-10-18   -0.000860\n",
      "2017-10-19    0.001113\n",
      "2017-10-20   -0.004550\n",
      "Name: Simple_Return, Length: 455, dtype: float64\n"
     ]
    }
   ],
   "source": [
    "#When dealing w/ multiple assets over same timeframe\n",
    "NVDA['Simple_Return'] = (NVDA['Adj Close'] / NVDA['Adj Close'].shift(1)) - 1\n",
    "print(NVDA['Simple_Return'])"
   ]
  },
  {
   "cell_type": "code",
   "execution_count": 26,
   "metadata": {},
   "outputs": [
    {
     "data": {
      "image/png": "[encoded data removed]",
      "text/plain": [
       "<matplotlib.figure.Figure at 0x10d743438>"
      ]
     },
     "metadata": {},
     "output_type": "display_data"
    }
   ],
   "source": [
    "NVDA['Simple_Return'].plot(figsize=(8,5))\n",
    "plt.show()"
   ]
  },
  {
   "cell_type": "code",
   "execution_count": 27,
   "metadata": {},
   "outputs": [
    {
     "data": {
      "text/plain": [
       "0.004390531515166221"
      ]
     },
     "execution_count": 27,
     "metadata": {},
     "output_type": "execute_result"
    }
   ],
   "source": [
    "avg_returns_d = NVDA['Simple_Return'].mean()\n",
    "avg_returns_d"
   ]
  },
  {
   "cell_type": "code",
   "execution_count": 28,
   "metadata": {},
   "outputs": [
    {
     "data": {
      "text/plain": [
       "1.0976328787915552"
      ]
     },
     "execution_count": 28,
     "metadata": {},
     "output_type": "execute_result"
    }
   ],
   "source": [
    "avg_returns_a = NVDA['Simple_Return'].mean()*250\n",
    "avg_returns_a"
   ]
  },
  {
   "cell_type": "code",
   "execution_count": 29,
   "metadata": {},
   "outputs": [
    {
     "name": "stdout",
     "output_type": "stream",
     "text": [
      "109.763%\n"
     ]
    }
   ],
   "source": [
    "print(str(round(avg_returns_a, 5)*100)+'%')"
   ]
  },
  {
   "cell_type": "code",
   "execution_count": null,
   "metadata": {
    "collapsed": true
   },
   "outputs": [],
   "source": []
  },
  {
   "cell_type": "code",
   "execution_count": null,
   "metadata": {
    "collapsed": true
   },
   "outputs": [],
   "source": []
  }
 ],
 "metadata": {
  "kernelspec": {
   "display_name": "Python 3",
   "language": "python",
   "name": "python3"
  },
  "language_info": {
   "codemirror_mode": {
    "name": "ipython",
    "version": 3
   },
   "file_extension": ".py",
   "mimetype": "text/x-python",
   "name": "python",
   "nbconvert_exporter": "python",
   "pygments_lexer": "ipython3",
   "version": "3.6.2"
  }
 },
 "nbformat": 4,
 "nbformat_minor": 2
}
