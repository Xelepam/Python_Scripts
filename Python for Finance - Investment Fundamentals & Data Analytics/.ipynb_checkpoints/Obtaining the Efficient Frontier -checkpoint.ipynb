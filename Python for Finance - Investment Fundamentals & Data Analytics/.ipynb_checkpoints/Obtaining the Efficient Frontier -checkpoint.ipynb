{
 "cells": [
  {
   "cell_type": "code",
   "execution_count": 1,
   "metadata": {
    "collapsed": true
   },
   "outputs": [],
   "source": [
    "import numpy as np\n",
    "import pandas as pd\n",
    "from pandas_datareader import data as wb\n",
    "import matplotlib.pyplot as plt\n",
    "%matplotlib inline"
   ]
  },
  {
   "cell_type": "code",
   "execution_count": 3,
   "metadata": {},
   "outputs": [],
   "source": [
    "assets = ['SQ', 'NVDA']\n",
    "\n",
    "pf_data = pd.DataFrame()\n",
    "\n",
    "for a in assets:\n",
    "    pf_data[a] = wb.DataReader(a, data_source = 'yahoo', start = '2015-11-20')['Adj Close']"
   ]
  },
  {
   "cell_type": "code",
   "execution_count": 4,
   "metadata": {},
   "outputs": [
    {
     "data": {
      "text/html": [
       "<div>\n",
       "<style>\n",
       "    .dataframe thead tr:only-child th {\n",
       "        text-align: right;\n",
       "    }\n",
       "\n",
       "    .dataframe thead th {\n",
       "        text-align: left;\n",
       "    }\n",
       "\n",
       "    .dataframe tbody tr th {\n",
       "        vertical-align: top;\n",
       "    }\n",
       "</style>\n",
       "<table border=\"1\" class=\"dataframe\">\n",
       "  <thead>\n",
       "    <tr style=\"text-align: right;\">\n",
       "      <th></th>\n",
       "      <th>SQ</th>\n",
       "      <th>NVDA</th>\n",
       "    </tr>\n",
       "    <tr>\n",
       "      <th>Date</th>\n",
       "      <th></th>\n",
       "      <th></th>\n",
       "    </tr>\n",
       "  </thead>\n",
       "  <tbody>\n",
       "    <tr>\n",
       "      <th>2017-11-06</th>\n",
       "      <td>37.180000</td>\n",
       "      <td>209.630005</td>\n",
       "    </tr>\n",
       "    <tr>\n",
       "      <th>2017-11-07</th>\n",
       "      <td>36.759998</td>\n",
       "      <td>212.029999</td>\n",
       "    </tr>\n",
       "    <tr>\n",
       "      <th>2017-11-08</th>\n",
       "      <td>36.709999</td>\n",
       "      <td>209.160004</td>\n",
       "    </tr>\n",
       "    <tr>\n",
       "      <th>2017-11-09</th>\n",
       "      <td>37.959999</td>\n",
       "      <td>205.320007</td>\n",
       "    </tr>\n",
       "    <tr>\n",
       "      <th>2017-11-10</th>\n",
       "      <td>39.209999</td>\n",
       "      <td>216.139999</td>\n",
       "    </tr>\n",
       "  </tbody>\n",
       "</table>\n",
       "</div>"
      ],
      "text/plain": [
       "                   SQ        NVDA\n",
       "Date                             \n",
       "2017-11-06  37.180000  209.630005\n",
       "2017-11-07  36.759998  212.029999\n",
       "2017-11-08  36.709999  209.160004\n",
       "2017-11-09  37.959999  205.320007\n",
       "2017-11-10  39.209999  216.139999"
      ]
     },
     "execution_count": 4,
     "metadata": {},
     "output_type": "execute_result"
    }
   ],
   "source": [
    "pf_data.tail()"
   ]
  },
  {
   "cell_type": "code",
   "execution_count": 5,
   "metadata": {},
   "outputs": [
    {
     "data": {
      "text/plain": [
       "<matplotlib.axes._subplots.AxesSubplot at 0x10f9bc898>"
      ]
     },
     "execution_count": 5,
     "metadata": {},
     "output_type": "execute_result"
    },
    {
     "data": {
      "image/png": "[encoded data removed]",
      "text/plain": [
       "<matplotlib.figure.Figure at 0x10f9bcc18>"
      ]
     },
     "metadata": {},
     "output_type": "display_data"
    }
   ],
   "source": [
    "(pf_data / pf_data.iloc[0] * 100).plot(figsize = (10,5))"
   ]
  },
  {
   "cell_type": "code",
   "execution_count": 6,
   "metadata": {
    "collapsed": true
   },
   "outputs": [],
   "source": [
    "log_returns = np.log(pf_data / pf_data.shift(1))"
   ]
  },
  {
   "cell_type": "code",
   "execution_count": 7,
   "metadata": {},
   "outputs": [
    {
     "data": {
      "text/plain": [
       "SQ      0.561161\n",
       "NVDA    0.976961\n",
       "dtype: float64"
      ]
     },
     "execution_count": 7,
     "metadata": {},
     "output_type": "execute_result"
    }
   ],
   "source": [
    "log_returns.mean() * 250"
   ]
  },
  {
   "cell_type": "code",
   "execution_count": 8,
   "metadata": {},
   "outputs": [
    {
     "data": {
      "text/html": [
       "<div>\n",
       "<style>\n",
       "    .dataframe thead tr:only-child th {\n",
       "        text-align: right;\n",
       "    }\n",
       "\n",
       "    .dataframe thead th {\n",
       "        text-align: left;\n",
       "    }\n",
       "\n",
       "    .dataframe tbody tr th {\n",
       "        vertical-align: top;\n",
       "    }\n",
       "</style>\n",
       "<table border=\"1\" class=\"dataframe\">\n",
       "  <thead>\n",
       "    <tr style=\"text-align: right;\">\n",
       "      <th></th>\n",
       "      <th>SQ</th>\n",
       "      <th>NVDA</th>\n",
       "    </tr>\n",
       "  </thead>\n",
       "  <tbody>\n",
       "    <tr>\n",
       "      <th>SQ</th>\n",
       "      <td>0.196045</td>\n",
       "      <td>0.036979</td>\n",
       "    </tr>\n",
       "    <tr>\n",
       "      <th>NVDA</th>\n",
       "      <td>0.036979</td>\n",
       "      <td>0.174436</td>\n",
       "    </tr>\n",
       "  </tbody>\n",
       "</table>\n",
       "</div>"
      ],
      "text/plain": [
       "            SQ      NVDA\n",
       "SQ    0.196045  0.036979\n",
       "NVDA  0.036979  0.174436"
      ]
     },
     "execution_count": 8,
     "metadata": {},
     "output_type": "execute_result"
    }
   ],
   "source": [
    "log_returns.cov() * 250"
   ]
  },
  {
   "cell_type": "code",
   "execution_count": 9,
   "metadata": {},
   "outputs": [
    {
     "data": {
      "text/html": [
       "<div>\n",
       "<style>\n",
       "    .dataframe thead tr:only-child th {\n",
       "        text-align: right;\n",
       "    }\n",
       "\n",
       "    .dataframe thead th {\n",
       "        text-align: left;\n",
       "    }\n",
       "\n",
       "    .dataframe tbody tr th {\n",
       "        vertical-align: top;\n",
       "    }\n",
       "</style>\n",
       "<table border=\"1\" class=\"dataframe\">\n",
       "  <thead>\n",
       "    <tr style=\"text-align: right;\">\n",
       "      <th></th>\n",
       "      <th>SQ</th>\n",
       "      <th>NVDA</th>\n",
       "    </tr>\n",
       "  </thead>\n",
       "  <tbody>\n",
       "    <tr>\n",
       "      <th>SQ</th>\n",
       "      <td>1.000000</td>\n",
       "      <td>0.199966</td>\n",
       "    </tr>\n",
       "    <tr>\n",
       "      <th>NVDA</th>\n",
       "      <td>0.199966</td>\n",
       "      <td>1.000000</td>\n",
       "    </tr>\n",
       "  </tbody>\n",
       "</table>\n",
       "</div>"
      ],
      "text/plain": [
       "            SQ      NVDA\n",
       "SQ    1.000000  0.199966\n",
       "NVDA  0.199966  1.000000"
      ]
     },
     "execution_count": 9,
     "metadata": {},
     "output_type": "execute_result"
    }
   ],
   "source": [
    "log_returns.corr()"
   ]
  },
  {
   "cell_type": "code",
   "execution_count": 11,
   "metadata": {},
   "outputs": [
    {
     "data": {
      "text/plain": [
       "2"
      ]
     },
     "execution_count": 11,
     "metadata": {},
     "output_type": "execute_result"
    }
   ],
   "source": [
    "num_assets = len(assets)\n",
    "num_assets"
   ]
  },
  {
   "cell_type": "code",
   "execution_count": 14,
   "metadata": {},
   "outputs": [
    {
     "data": {
      "text/plain": [
       "array([ 0.48608399,  0.51391601])"
      ]
     },
     "execution_count": 14,
     "metadata": {},
     "output_type": "execute_result"
    }
   ],
   "source": [
    "#Random Weights\n",
    "weights = np.random.random(num_assets)\n",
    "weights /= np.sum(weights)\n",
    "weights"
   ]
  },
  {
   "cell_type": "code",
   "execution_count": 15,
   "metadata": {},
   "outputs": [
    {
     "data": {
      "text/plain": [
       "1.0"
      ]
     },
     "execution_count": 15,
     "metadata": {},
     "output_type": "execute_result"
    }
   ],
   "source": [
    "weights[0] + weights[1]"
   ]
  },
  {
   "cell_type": "code",
   "execution_count": 17,
   "metadata": {},
   "outputs": [
    {
     "data": {
      "text/plain": [
       "0.7748471713747238"
      ]
     },
     "execution_count": 17,
     "metadata": {},
     "output_type": "execute_result"
    }
   ],
   "source": [
    "#Expected Portfolio Return\n",
    "np.sum(weights * log_returns.mean()) * 250"
   ]
  },
  {
   "cell_type": "code",
   "execution_count": 18,
   "metadata": {},
   "outputs": [
    {
     "data": {
      "text/plain": [
       "0.11086616712122406"
      ]
     },
     "execution_count": 18,
     "metadata": {},
     "output_type": "execute_result"
    }
   ],
   "source": [
    "#Expected Portfolio Variance\n",
    "np.dot(weights.T, np.dot(log_returns.cov() * 250, weights))"
   ]
  },
  {
   "cell_type": "code",
   "execution_count": 19,
   "metadata": {},
   "outputs": [
    {
     "data": {
      "text/plain": [
       "0.33296571463323976"
      ]
     },
     "execution_count": 19,
     "metadata": {},
     "output_type": "execute_result"
    }
   ],
   "source": [
    "#Expected Portfolio Volatility\n",
    "np.sqrt(np.dot(weights.T, np.dot(log_returns.cov() * 250, weights)))"
   ]
  },
  {
   "cell_type": "code",
   "execution_count": 20,
   "metadata": {},
   "outputs": [
    {
     "data": {
      "text/plain": [
       "(array([ 0.82010871,  0.64588367,  0.81277137,  0.67523926,  0.86107478,\n",
       "         0.7465919 ,  0.86391222,  0.63798651,  0.75569089,  0.73704158,\n",
       "         0.78251552,  0.82070154,  0.68816074,  0.69936094,  0.92450918,\n",
       "         0.57789797,  0.94539645,  0.87120094,  0.96398841,  0.57759565,\n",
       "         0.70036182,  0.87692141,  0.95647756,  0.81708398,  0.76208412,\n",
       "         0.87351049,  0.64029071,  0.61993381,  0.78284134,  0.75284694,\n",
       "         0.80359452,  0.7628083 ,  0.93781301,  0.63362731,  0.75486362,\n",
       "         0.72142232,  0.91971729,  0.64603289,  0.83439734,  0.71782742,\n",
       "         0.71377259,  0.67153373,  0.91007092,  0.76733398,  0.72085477,\n",
       "         0.83739197,  0.91982293,  0.82954628,  0.93423045,  0.64815053,\n",
       "         0.62455041,  0.81672933,  0.70299907,  0.75960032,  0.81451347,\n",
       "         0.95954936,  0.94702864,  0.72315283,  0.94826901,  0.657807  ,\n",
       "         0.7671741 ,  0.7652318 ,  0.80237941,  0.9747896 ,  0.73619405,\n",
       "         0.66734462,  0.89897325,  0.66362588,  0.65769904,  0.83165673,\n",
       "         0.69147126,  0.59103412,  0.80274682,  0.74094942,  0.73215487,\n",
       "         0.78725613,  0.94009593,  0.66709574,  0.66325035,  0.64945869,\n",
       "         0.698799  ,  0.82583269,  0.76300048,  0.73568174,  0.95662831,\n",
       "         0.60930937,  0.85379244,  0.76676409,  0.96419603,  0.84121701,\n",
       "         0.77134202,  0.65744773,  0.60916137,  0.67480615,  0.9424323 ,\n",
       "         0.78014897,  0.87491622,  0.74080733,  0.85639642,  0.8322145 ,\n",
       "         0.85998349,  0.88541297,  0.77823627,  0.89247439,  0.7518991 ,\n",
       "         0.73636996,  0.62422936,  0.72174659,  0.70865252,  0.71515404,\n",
       "         0.90686901,  0.57858261,  0.62363468,  0.75740541,  0.72300658,\n",
       "         0.7779829 ,  0.73893797,  0.77510025,  0.5933924 ,  0.87449273,\n",
       "         0.95510183,  0.89149072,  0.78855659,  0.82728602,  0.85105338,\n",
       "         0.81631611,  0.70084684,  0.84773124,  0.87378085,  0.57434769,\n",
       "         0.69064728,  0.6225094 ,  0.82554779,  0.77305293,  0.7420674 ,\n",
       "         0.74062684,  0.74013983,  0.87933782,  0.82849151,  0.73303832,\n",
       "         0.85444229,  0.6640169 ,  0.80693473,  0.97089208,  0.5645692 ,\n",
       "         0.82807665,  0.84183324,  0.85468786,  0.88970213,  0.75236689,\n",
       "         0.94922668,  0.76668743,  0.74456512,  0.81418425,  0.72189791,\n",
       "         0.76564199,  0.95715074,  0.7827923 ,  0.63297734,  0.72498973,\n",
       "         0.70141408,  0.67766518,  0.72401722,  0.71400568,  0.92637148,\n",
       "         0.89694918,  0.79279767,  0.64356741,  0.82745424,  0.78621315,\n",
       "         0.77286609,  0.7175986 ,  0.8354448 ,  0.84777613,  0.67383147,\n",
       "         0.8843973 ,  0.78131831,  0.84713315,  0.84522491,  0.75270826,\n",
       "         0.74359772,  0.68183027,  0.78329092,  0.9104544 ,  0.73586683,\n",
       "         0.62586326,  0.94762113,  0.70801436,  0.79574336,  0.73907406,\n",
       "         0.68930711,  0.67010465,  0.73670673,  0.79023499,  0.95961054,\n",
       "         0.82065667,  0.85342266,  0.86456467,  0.80582336,  0.81760113,\n",
       "         0.64039241,  0.81474686,  0.80005777,  0.71369805,  0.81675719,\n",
       "         0.76756922,  0.74146758,  0.80627346,  0.86517713,  0.75561832,\n",
       "         0.75989031,  0.59949998,  0.8630561 ,  0.68926042,  0.94883906,\n",
       "         0.72588535,  0.58948954,  0.64685236,  0.86238866,  0.81064653,\n",
       "         0.89364445,  0.61102007,  0.88252178,  0.63263407,  0.77461828,\n",
       "         0.79274242,  0.75199997,  0.79401771,  0.85753724,  0.93816672,\n",
       "         0.83326711,  0.71940748,  0.59955779,  0.80578401,  0.73581022,\n",
       "         0.7376274 ,  0.76859502,  0.81319452,  0.85262553,  0.94995843,\n",
       "         0.74348395,  0.82683435,  0.83529902,  0.86557939,  0.83604805,\n",
       "         0.7561595 ,  0.85062737,  0.62761926,  0.73904074,  0.77376886,\n",
       "         0.86150022,  0.95376174,  0.79734518,  0.85208825,  0.94476972,\n",
       "         0.96179214,  0.7809815 ,  0.58406189,  0.89214039,  0.58070464,\n",
       "         0.63329582,  0.72797294,  0.72129668,  0.91553166,  0.72582928,\n",
       "         0.79647184,  0.88849343,  0.82818167,  0.78047894,  0.73736   ,\n",
       "         0.72208786,  0.74455091,  0.59200968,  0.74640062,  0.68943932,\n",
       "         0.8029047 ,  0.56755279,  0.76938091,  0.74008881,  0.62648984,\n",
       "         0.91969229,  0.6997733 ,  0.75749326,  0.76075243,  0.78465175,\n",
       "         0.78443563,  0.87199776,  0.73357729,  0.81729531,  0.76852313,\n",
       "         0.60398382,  0.72633461,  0.82250375,  0.74389172,  0.76339276,\n",
       "         0.85183805,  0.64688843,  0.8672284 ,  0.77731156,  0.810365  ,\n",
       "         0.82328737,  0.87133032,  0.82379519,  0.686704  ,  0.8423835 ,\n",
       "         0.84454056,  0.75098839,  0.86707154,  0.96020584,  0.92918079,\n",
       "         0.73564724,  0.7238137 ,  0.84864117,  0.75914189,  0.78247162,\n",
       "         0.7567903 ,  0.63248731,  0.70884248,  0.59141904,  0.63885878,\n",
       "         0.84099323,  0.85583611,  0.69273004,  0.89731473,  0.8164205 ,\n",
       "         0.72133389,  0.78017423,  0.7568259 ,  0.61013775,  0.81460783,\n",
       "         0.88407225,  0.73243763,  0.74700987,  0.91858955,  0.7426895 ,\n",
       "         0.71484762,  0.80131675,  0.72115789,  0.86020231,  0.79757995,\n",
       "         0.82459644,  0.69112486,  0.80324869,  0.69412237,  0.80981146,\n",
       "         0.74281318,  0.73124744,  0.78148984,  0.69914798,  0.9345462 ,\n",
       "         0.71583541,  0.83856399,  0.58080387,  0.66034741,  0.7286104 ,\n",
       "         0.75721642,  0.68349761,  0.57109992,  0.8255644 ,  0.8320107 ,\n",
       "         0.80796739,  0.91848454,  0.83904016,  0.5794109 ,  0.95065549,\n",
       "         0.80171975,  0.7495982 ,  0.71689386,  0.69994179,  0.92287795,\n",
       "         0.90482616,  0.93084604,  0.73327315,  0.82299241,  0.95004864,\n",
       "         0.79035701,  0.7620102 ,  0.76199191,  0.71961848,  0.88301108,\n",
       "         0.93026378,  0.80916457,  0.71916167,  0.81952954,  0.89709093,\n",
       "         0.81841657,  0.83391965,  0.84326264,  0.67947376,  0.66560621,\n",
       "         0.8753062 ,  0.608245  ,  0.83119938,  0.64901063,  0.96547904,\n",
       "         0.7581393 ,  0.75803278,  0.59525525,  0.78131932,  0.73668162,\n",
       "         0.82094505,  0.77765436,  0.83723056,  0.60763406,  0.79992025,\n",
       "         0.84121018,  0.72262496,  0.62168063,  0.80761466,  0.8587735 ,\n",
       "         0.75966843,  0.81172305,  0.70789704,  0.64211761,  0.8368511 ,\n",
       "         0.77440197,  0.8211176 ,  0.82038887,  0.74683283,  0.75023595,\n",
       "         0.59552618,  0.75929439,  0.84050089,  0.77310002,  0.60477111,\n",
       "         0.95748492,  0.85188167,  0.73263918,  0.71866854,  0.8066517 ,\n",
       "         0.89358444,  0.78218651,  0.82224756,  0.57343687,  0.95669844,\n",
       "         0.73004378,  0.62061747,  0.80685224,  0.83548912,  0.7908323 ,\n",
       "         0.90466697,  0.77336824,  0.89080884,  0.86822616,  0.64829496,\n",
       "         0.80242225,  0.72077334,  0.9394102 ,  0.74327896,  0.71696361,\n",
       "         0.68732413,  0.86458106,  0.70447557,  0.93372882,  0.90404544,\n",
       "         0.65650001,  0.77725092,  0.69544486,  0.88253983,  0.92818199,\n",
       "         0.63135037,  0.6565709 ,  0.72840892,  0.7340053 ,  0.94841569,\n",
       "         0.63858815,  0.71686345,  0.76436413,  0.7247634 ,  0.93265664,\n",
       "         0.77002846,  0.81212302,  0.78228128,  0.92258337,  0.62297752,\n",
       "         0.76011899,  0.74357136,  0.64788384,  0.88772099,  0.62456047,\n",
       "         0.90511114,  0.81322401,  0.57769741,  0.87111816,  0.79340174,\n",
       "         0.82070808,  0.7936219 ,  0.76688006,  0.73250373,  0.83891604,\n",
       "         0.7788619 ,  0.90353558,  0.79348707,  0.91313297,  0.89978479,\n",
       "         0.77210061,  0.79855221,  0.77316699,  0.60997099,  0.77252323,\n",
       "         0.83276938,  0.62782664,  0.79946085,  0.71455233,  0.69674286,\n",
       "         0.76169134,  0.74173094,  0.91693698,  0.80991862,  0.7297334 ,\n",
       "         0.93545405,  0.59247397,  0.85290512,  0.93434387,  0.73069547,\n",
       "         0.74725188,  0.8275293 ,  0.75485588,  0.86038842,  0.93598502,\n",
       "         0.5927384 ,  0.79535601,  0.90867178,  0.72439468,  0.92854797,\n",
       "         0.87936511,  0.70453528,  0.9090736 ,  0.9220969 ,  0.71278327,\n",
       "         0.81720983,  0.86366704,  0.93199993,  0.74565835,  0.77242964,\n",
       "         0.77809688,  0.87987104,  0.73195713,  0.76368506,  0.75522317,\n",
       "         0.82666625,  0.94243133,  0.84946984,  0.76199346,  0.68735831,\n",
       "         0.76736061,  0.92307036,  0.9106103 ,  0.77618355,  0.93115125,\n",
       "         0.75402339,  0.60906489,  0.78404304,  0.66704654,  0.91942814,\n",
       "         0.67156882,  0.76768427,  0.67258408,  0.80438605,  0.7947481 ,\n",
       "         0.84349501,  0.66878187,  0.58359466,  0.88541953,  0.80608986,\n",
       "         0.6875957 ,  0.90481226,  0.82314629,  0.71492998,  0.5824553 ,\n",
       "         0.6306948 ,  0.85117127,  0.71353731,  0.76983376,  0.84549152,\n",
       "         0.59896208,  0.77923879,  0.77262678,  0.68759041,  0.88245541,\n",
       "         0.93120959,  0.74831811,  0.77585918,  0.96500352,  0.77526249,\n",
       "         0.78485065,  0.71573296,  0.79339391,  0.81261907,  0.8393953 ,\n",
       "         0.58282168,  0.83589025,  0.89063013,  0.57131056,  0.67472893,\n",
       "         0.64035705,  0.87117337,  0.66968618,  0.62510627,  0.7315024 ,\n",
       "         0.68460409,  0.76919389,  0.65808679,  0.8775704 ,  0.74903768,\n",
       "         0.58054573,  0.80385941,  0.81703012,  0.65941438,  0.67955385,\n",
       "         0.79349502,  0.80178243,  0.77880652,  0.70513563,  0.95125501,\n",
       "         0.78120819,  0.84109816,  0.75987197,  0.81472697,  0.68305921,\n",
       "         0.83423502,  0.91085746,  0.708228  ,  0.71490832,  0.83791723,\n",
       "         0.87223272,  0.57951962,  0.91942439,  0.69240845,  0.82363409,\n",
       "         0.67534866,  0.81120036,  0.95441413,  0.72266784,  0.69682025,\n",
       "         0.65278281,  0.73694539,  0.84578083,  0.89723965,  0.6396738 ,\n",
       "         0.6632503 ,  0.72480372,  0.80335552,  0.83080854,  0.67246121,\n",
       "         0.80728533,  0.8544327 ,  0.57358128,  0.76602004,  0.95138461,\n",
       "         0.79853655,  0.90357831,  0.89346302,  0.62865377,  0.69743371,\n",
       "         0.76152851,  0.88006963,  0.89097678,  0.70148011,  0.9451295 ,\n",
       "         0.70165326,  0.77447381,  0.80397471,  0.91121463,  0.90350039,\n",
       "         0.66265989,  0.92586823,  0.85012163,  0.87164161,  0.68777402,\n",
       "         0.58710987,  0.71320735,  0.88542029,  0.78580602,  0.8611951 ,\n",
       "         0.6878822 ,  0.64028152,  0.75719954,  0.67983942,  0.63132102,\n",
       "         0.75674899,  0.71362633,  0.66717209,  0.72342649,  0.60409129,\n",
       "         0.90277268,  0.70229807,  0.93556753,  0.77860027,  0.9370301 ,\n",
       "         0.78109267,  0.58318489,  0.63884007,  0.72272091,  0.7633718 ,\n",
       "         0.77173647,  0.77221472,  0.56566864,  0.68688101,  0.75352497,\n",
       "         0.70755768,  0.61708284,  0.80066107,  0.70264427,  0.77717673,\n",
       "         0.86622969,  0.80375026,  0.70774785,  0.75778093,  0.7414296 ,\n",
       "         0.86936001,  0.93796381,  0.86281866,  0.81325842,  0.58264206,\n",
       "         0.80602362,  0.73097781,  0.896577  ,  0.83667799,  0.59671201,\n",
       "         0.69387261,  0.89157735,  0.84113966,  0.75023337,  0.61590885,\n",
       "         0.90047106,  0.64738163,  0.92630456,  0.75139989,  0.73762131,\n",
       "         0.70054627,  0.76959264,  0.96421128,  0.84146381,  0.59555617,\n",
       "         0.73454436,  0.87969957,  0.62355318,  0.83145015,  0.57802306,\n",
       "         0.7755102 ,  0.74456805,  0.85723388,  0.72957541,  0.87518021,\n",
       "         0.72843578,  0.58386656,  0.87597163,  0.71661729,  0.62383932,\n",
       "         0.74525537,  0.7957284 ,  0.81518294,  0.85902941,  0.9503849 ,\n",
       "         0.63589412,  0.91654202,  0.78719999,  0.62879008,  0.58367578,\n",
       "         0.81916541,  0.85468222,  0.74720013,  0.64801027,  0.70961519,\n",
       "         0.64188433,  0.74117369,  0.87532673,  0.76501982,  0.69830424,\n",
       "         0.79404021,  0.95749231,  0.59019828,  0.9067427 ,  0.70098489,\n",
       "         0.683384  ,  0.86234948,  0.88479911,  0.82455   ,  0.66411935,\n",
       "         0.77466829,  0.77401643,  0.72380607,  0.92536846,  0.68063042,\n",
       "         0.61405675,  0.77038708,  0.94547043,  0.83358906,  0.93653417,\n",
       "         0.72282916,  0.74958904,  0.91377081,  0.7386655 ,  0.73755696,\n",
       "         0.74967126,  0.95336066,  0.68820706,  0.82431301,  0.78331963,\n",
       "         0.75445164,  0.7751    ,  0.77139702,  0.76632325,  0.71702459,\n",
       "         0.71425999,  0.80463393,  0.92282706,  0.64441373,  0.64881085,\n",
       "         0.94933249,  0.69388071,  0.91309104,  0.75367616,  0.64174949,\n",
       "         0.82069067,  0.83046769,  0.68230001,  0.70624718,  0.7829099 ,\n",
       "         0.73677592,  0.59208953,  0.7071516 ,  0.76422681,  0.7296833 ,\n",
       "         0.9097454 ,  0.94283875,  0.77724002,  0.95152548,  0.95399234,\n",
       "         0.61661846,  0.74212054,  0.86141776,  0.82483925,  0.74444544,\n",
       "         0.7973169 ,  0.94070402,  0.81422369,  0.7483138 ,  0.66366097,\n",
       "         0.63381338,  0.76679815,  0.81289515,  0.89034357,  0.75055694,\n",
       "         0.97576302,  0.8877097 ,  0.57123712,  0.82652238,  0.64951407,\n",
       "         0.76640277,  0.76180075,  0.81252604,  0.58939784,  0.92798572,\n",
       "         0.81584188,  0.76226482,  0.79893142,  0.80807191,  0.95250451,\n",
       "         0.64658764,  0.80146951,  0.83587793,  0.87133145,  0.76816288,\n",
       "         0.63420253,  0.75812774,  0.73888587,  0.68101794,  0.86825481,\n",
       "         0.76282174,  0.69322485,  0.77913235,  0.82531673,  0.61092437,\n",
       "         0.88955856,  0.70505461,  0.79104126,  0.73486969,  0.8454498 ,\n",
       "         0.71643024,  0.81726404,  0.86094572,  0.82835522,  0.92860596,\n",
       "         0.72468177,  0.81935742,  0.81718075,  0.67960665,  0.89834164,\n",
       "         0.69980368,  0.88851849,  0.75857216,  0.65237085,  0.8607055 ,\n",
       "         0.78162936,  0.86692921,  0.95007449,  0.71863371,  0.8456891 ,\n",
       "         0.81242045,  0.7543885 ,  0.82198292,  0.58971696,  0.77026467,\n",
       "         0.75061776,  0.58099081,  0.81992309,  0.79841408,  0.93426226,\n",
       "         0.71032409,  0.69047372,  0.76262399,  0.88021312,  0.64439571,\n",
       "         0.79403302,  0.92600319,  0.68585421,  0.88200001,  0.8159463 ,\n",
       "         0.82378236,  0.696384  ,  0.67094724,  0.83907046,  0.73910939,\n",
       "         0.79627082,  0.75140927,  0.89504968,  0.66327847,  0.80239713,\n",
       "         0.7430603 ,  0.86605862,  0.60147068,  0.70104414,  0.83596371,\n",
       "         0.81053817,  0.76279213,  0.76485693,  0.82166297,  0.60803251,\n",
       "         0.70530431,  0.70835097,  0.70865242,  0.92230042,  0.87862649,\n",
       "         0.93626632,  0.82651441,  0.58025384,  0.87253691,  0.75483523,\n",
       "         0.86367169,  0.7041033 ,  0.73906243,  0.70476721,  0.89669077,\n",
       "         0.68995354,  0.77664989,  0.76889377,  0.85135332,  0.64013634,\n",
       "         0.81213184,  0.89911477,  0.80623493,  0.59725102,  0.70820069,\n",
       "         0.73126046,  0.81765639,  0.6303508 ,  0.8769923 ,  0.78502095,\n",
       "         0.70242662,  0.70650414,  0.82740174,  0.73321216,  0.92455518,\n",
       "         0.61496428,  0.88147767,  0.84409034,  0.97004772,  0.79631995,\n",
       "         0.67595978,  0.84834461,  0.78990633,  0.86711949,  0.77315753,\n",
       "         0.80777563,  0.83672869,  0.86436995,  0.86389063,  0.6558105 ,\n",
       "         0.62878664,  0.79416387,  0.85596073,  0.77956818,  0.88440705,\n",
       "         0.72115983,  0.58685721,  0.84465253,  0.81223084,  0.68262222]),\n",
       " array([ 0.3360445 ,  0.37885805,  0.33483542,  0.36205307,  0.34763287,\n",
       "         0.33636738,  0.34872701,  0.38391082,  0.3348296 ,  0.33842553,\n",
       "         0.33274722,  0.336154  ,  0.35572291,  0.35080447,  0.3800987 ,\n",
       "         0.42862497,  0.39404985,  0.35170203,  0.40761206,  0.42887466,\n",
       "         0.35039147,  0.35419964,  0.40201071,  0.33551326,  0.33399926,\n",
       "         0.35269338,  0.38241454,  0.39623396,  0.33274464,  0.3352655 ,\n",
       "         0.3337067 ,  0.33391831,  0.38882008,  0.38679012,  0.33495218,\n",
       "         0.34274987,  0.37710516,  0.37876464,  0.33916885,  0.34390974,\n",
       "         0.34529036,  0.36399325,  0.37132752,  0.3334731 ,  0.34292895,\n",
       "         0.33995061,  0.37717028,  0.33799522,  0.3864136 ,  0.37744752,\n",
       "         0.39298401,  0.33545398,  0.34932447,  0.33429719,  0.33509794,\n",
       "         0.40428202,  0.39519906,  0.34221323,  0.39607786,  0.37164462,\n",
       "         0.33348705,  0.33366688,  0.33358942,  0.41594288,  0.33862989,\n",
       "         0.3662517 ,  0.36510851,  0.36831342,  0.37170762,  0.33849166,\n",
       "         0.35421301,  0.41799392,  0.33362409,  0.33752887,  0.33965199,\n",
       "         0.3327637 ,  0.39037524,  0.36638802,  0.36852456,  0.37664177,\n",
       "         0.35103828,  0.33717492,  0.33389728,  0.33875512,  0.40212154,\n",
       "         0.40395777,  0.34499206,  0.3335234 ,  0.40776918,  0.34101213,\n",
       "         0.33316636,  0.37185444,  0.4040677 ,  0.36227702,  0.39198404,\n",
       "         0.33278233,  0.35330808,  0.33756015,  0.34590846,  0.33862651,\n",
       "         0.34722173,  0.35816407,  0.3328318 ,  0.36168818,  0.33541984,\n",
       "         0.33858718,  0.39320788,  0.34264824,  0.3471419 ,  0.34481143,\n",
       "         0.36948528,  0.42806034,  0.3936234 ,  0.33458656,  0.34225804,\n",
       "         0.33283977,  0.33798102,  0.33295367,  0.41613192,  0.353122  ,\n",
       "         0.40100241,  0.36118513,  0.33278846,  0.33748784,  0.34406197,\n",
       "         0.33538571,  0.35019293,  0.34298084,  0.35281094,  0.43157098,\n",
       "         0.35458447,  0.39441269,  0.33711481,  0.33306054,  0.33728619,\n",
       "         0.33760003,  0.33770845,  0.35529685,  0.33775532,  0.33942165,\n",
       "         0.34521783,  0.36809414,  0.33406793,  0.41290028,  0.43983723,\n",
       "         0.33766246,  0.34118972,  0.34530365,  0.36028045,  0.3353431 ,\n",
       "         0.3967596 ,  0.33353029,  0.33676639,  0.33504715,  0.34260098,\n",
       "         0.3336273 ,  0.40250613,  0.33274499,  0.38722481,  0.34165913,\n",
       "         0.34996205,  0.36081258,  0.34195049,  0.34520893,  0.38128362,\n",
       "         0.36402536,  0.33292976,  0.38031785,  0.33752474,  0.33275013,\n",
       "         0.33307136,  0.34398561,  0.33943735,  0.34299511,  0.36278375,\n",
       "         0.35767399,  0.33276137,  0.34279171,  0.34219956,  0.3352878 ,\n",
       "         0.33696404,  0.3587384 ,  0.33274199,  0.37155072,  0.33870973,\n",
       "         0.39207191,  0.39561825,  0.34738105,  0.33308238,  0.3379498 ,\n",
       "         0.35519479,  0.364756  ,  0.33850585,  0.33283331,  0.40432753,\n",
       "         0.33614565,  0.34486446,  0.34898372,  0.33394142,  0.33560083,\n",
       "         0.38234892,  0.33513427,  0.33338636,  0.34531645,  0.33545861,\n",
       "         0.33345282,  0.33741562,  0.3339919 ,  0.34922642,  0.33484021,\n",
       "         0.33426078,  0.41137823,  0.34839307,  0.3552162 ,  0.39648333,\n",
       "         0.34139478,  0.41922131,  0.37825308,  0.34813501,  0.334536  ,\n",
       "         0.3622916 ,  0.40269165,  0.3567803 ,  0.38745495,  0.33297689,\n",
       "         0.33292733,  0.3354032 ,  0.33298756,  0.34631976,  0.38905994,\n",
       "         0.33888514,  0.34339247,  0.41133371,  0.33393706,  0.3387236 ,\n",
       "         0.33828633,  0.33336771,  0.33489777,  0.34459156,  0.39728239,\n",
       "         0.33698759,  0.33738947,  0.33939966,  0.34938673,  0.3395944 ,\n",
       "         0.33476169,  0.34392044,  0.39086042,  0.33795743,  0.33302072,\n",
       "         0.34779461,  0.40002557,  0.33318408,  0.34440928,  0.39361078,\n",
       "         0.40595749,  0.33276669,  0.42358275,  0.36151693,  0.4263175 ,\n",
       "         0.38701165,  0.3407935 ,  0.34278939,  0.37455682,  0.34141122,\n",
       "         0.333127  ,  0.35967642,  0.33768588,  0.3327757 ,  0.33834966,\n",
       "         0.34254181,  0.33676926,  0.41722189,  0.33640416,  0.35513425,\n",
       "         0.3336392 ,  0.43729186,  0.33330616,  0.33771988,  0.39163851,\n",
       "         0.37708975,  0.35063378,  0.33457451,  0.33415509,  0.3327403 ,\n",
       "         0.33273993,  0.35204143,  0.33928299,  0.33554888,  0.3333735 ,\n",
       "         0.40795292,  0.34126362,  0.33649764,  0.33690348,  0.33385493,\n",
       "         0.34432485,  0.37823062,  0.35005143,  0.33286247,  0.33449804,\n",
       "         0.33665211,  0.35175695,  0.33675385,  0.356402  ,  0.34134983,\n",
       "         0.34199139,  0.3355724 ,  0.34998769,  0.40477096,  0.38309354,\n",
       "         0.3387636 ,  0.34201203,  0.34327182,  0.3343556 ,  0.3327476 ,\n",
       "         0.33467204,  0.38755346,  0.34707107,  0.41768901,  0.38334229,\n",
       "         0.34094809,  0.34570864,  0.35365115,  0.36421979,  0.33540287,\n",
       "         0.34277768,  0.3327818 ,  0.33466704,  0.40334361,  0.3351126 ,\n",
       "         0.35751806,  0.33957785,  0.33628764,  0.37641239,  0.33715383,\n",
       "         0.3449169 ,  0.33349305,  0.34283312,  0.34730373,  0.3332001 ,\n",
       "         0.33691698,  0.35436882,  0.33367255,  0.3530376 ,  0.33442459,\n",
       "         0.33712775,  0.33989251,  0.33275889,  0.35089291,  0.386624  ,\n",
       "         0.34457846,  0.34026838,  0.42623627,  0.37017468,  0.34061405,\n",
       "         0.33461262,  0.357928  ,  0.43429205,  0.3371183 ,  0.33857706,\n",
       "         0.33419112,  0.37634812,  0.34039938,  0.42737875,  0.3977819 ,\n",
       "         0.33352892,  0.3358133 ,  0.34422083,  0.35056425,  0.37907064,\n",
       "         0.36833004,  0.384179  ,  0.33936106,  0.33659361,  0.39734695,\n",
       "         0.33283713,  0.33400767,  0.33400976,  0.34332428,  0.35701204,\n",
       "         0.38379841,  0.33434072,  0.34347218,  0.33593923,  0.36410069,\n",
       "         0.33574165,  0.33904818,  0.34160863,  0.35990324,  0.3672089 ,\n",
       "         0.35348013,  0.40474979,  0.33838222,  0.37691707,  0.40874275,\n",
       "         0.33448709,  0.33450135,  0.41467144,  0.33276136,  0.33851189,\n",
       "         0.33619948,  0.33285059,  0.33990736,  0.40520587,  0.33337519,\n",
       "         0.34101018,  0.34237543,  0.39499651,  0.33414843,  0.34677218,\n",
       "         0.3342886 ,  0.33468484,  0.34742522,  0.38124101,  0.33980619,\n",
       "         0.3329877 ,  0.33623189,  0.33609603,  0.33632131,  0.33570158,\n",
       "         0.41445979,  0.33433605,  0.34080804,  0.33305784,  0.40735725,\n",
       "         0.40275255,  0.34433955,  0.33952525,  0.34363293,  0.33403512,\n",
       "         0.36226052,  0.33275037,  0.3364478 ,  0.4323316 ,  0.40217312,\n",
       "         0.34021769,  0.39574855,  0.33405833,  0.33944883,  0.33285277,\n",
       "         0.36824068,  0.33304267,  0.3608387 ,  0.35045947,  0.37735826,\n",
       "         0.33359343,  0.34295477,  0.38990635,  0.33703018,  0.34419745,\n",
       "         0.35611182,  0.34899019,  0.3487406 ,  0.38607999,  0.36789272,\n",
       "         0.3724102 ,  0.33286464,  0.35246258,  0.35678883,  0.38244698,\n",
       "         0.38831895,  0.37236851,  0.34067056,  0.33917389,  0.3961821 ,\n",
       "         0.38351841,  0.34423103,  0.33375345,  0.34172653,  0.38536974,\n",
       "         0.33325782,  0.33474163,  0.3327494 ,  0.37888597,  0.39408388,\n",
       "         0.33423238,  0.33696949,  0.37761252,  0.35929354,  0.392977  ,\n",
       "         0.36849025,  0.33490215,  0.4287906 ,  0.35166693,  0.33295742,\n",
       "         0.33615522,  0.33296797,  0.33351303,  0.33956058,  0.34036513,\n",
       "         0.33281354,  0.36760837,  0.33296148,  0.37312488,  0.36554729,\n",
       "         0.33311759,  0.33326943,  0.33305402,  0.40346709,  0.33309169,\n",
       "         0.33876217,  0.39071799,  0.33333861,  0.34501895,  0.35190557,\n",
       "         0.33404428,  0.33735857,  0.37540542,  0.33443869,  0.34030268,\n",
       "         0.3872308 ,  0.41685534,  0.34468694,  0.38648914,  0.34004076,\n",
       "         0.33624187,  0.33754124,  0.33495335,  0.34737365,  0.38758695,\n",
       "         0.41664683,  0.33305976,  0.3705178 ,  0.34183687,  0.3826835 ,\n",
       "         0.35530939,  0.3487172 ,  0.37074961,  0.37858168,  0.34563875,\n",
       "         0.33553445,  0.34863105,  0.3849366 ,  0.33654862,  0.33309735,\n",
       "         0.33283614,  0.35554231,  0.33970406,  0.33382389,  0.33489848,\n",
       "         0.33735312,  0.39198337,  0.34354019,  0.33400958,  0.35609587,\n",
       "         0.33347079,  0.37919142,  0.37164162,  0.33290585,  0.38437896,\n",
       "         0.33508023,  0.4041394 ,  0.33273988,  0.366415  ,  0.3769271 ,\n",
       "         0.36397462,  0.33344301,  0.36343777,  0.33378715,  0.33302582,\n",
       "         0.34167765,  0.36546913,  0.42396167,  0.35816724,  0.33397119,\n",
       "         0.35598525,  0.36832223,  0.33662408,  0.3448885 ,  0.42488797,\n",
       "         0.38876225,  0.34410128,  0.3453728 ,  0.33327212,  0.34228125,\n",
       "         0.41179286,  0.33280352,  0.33308549,  0.35598772,  0.35674894,\n",
       "         0.38441722,  0.3360437 ,  0.33291954,  0.40838138,  0.33294613,\n",
       "         0.33274086,  0.34461335,  0.33295705,  0.33481319,  0.34049779,\n",
       "         0.42458975,  0.33955314,  0.36074822,  0.43411482,  0.36231703,\n",
       "         0.38237173,  0.35169034,  0.36498086,  0.39259717,  0.33982453,\n",
       "         0.35739656,  0.33332052,  0.37148156,  0.35449188,  0.33591318,\n",
       "         0.42644763,  0.33373327,  0.33550422,  0.37071176,  0.35986327,\n",
       "         0.33296186,  0.33353457,  0.33281508,  0.34848275,  0.39821269,\n",
       "         0.33276305,  0.34097809,  0.33426307,  0.33513117,  0.35813997,\n",
       "         0.33912773,  0.37178591,  0.34730079,  0.34489597,  0.3400922 ,\n",
       "         0.35214204,  0.42728942,  0.37692479,  0.35379405,  0.33672143,\n",
       "         0.36199662,  0.33461184,  0.40050046,  0.3423622 ,  0.3518726 ,\n",
       "         0.37462177,  0.33844855,  0.34237029,  0.36417981,  0.38281339,\n",
       "         0.36852459,  0.34171451,  0.33368304,  0.33828951,  0.36350252,\n",
       "         0.33410915,  0.34521449,  0.43221087,  0.33359157,  0.39830595,\n",
       "         0.33326827,  0.36763217,  0.36219768,  0.39015129,  0.35161211,\n",
       "         0.33406318,  0.35563403,  0.36092385,  0.34993526,  0.39386269,\n",
       "         0.34986512,  0.33298408,  0.33374495,  0.37199481,  0.36758879,\n",
       "         0.36885762,  0.38096224,  0.34375353,  0.35188939,  0.35590232,\n",
       "         0.42112431,  0.34548886,  0.35816762,  0.33274636,  0.34767853,\n",
       "         0.35585206,  0.38242048,  0.33461496,  0.359721  ,  0.38833877,\n",
       "         0.33467785,  0.34534158,  0.36634618,  0.34212967,  0.4078715 ,\n",
       "         0.36718477,  0.34960508,  0.38730684,  0.33282093,  0.38829061,\n",
       "         0.33276487,  0.42429444,  0.38335446,  0.34234585,  0.33385718,\n",
       "         0.33314063,  0.3331105 ,  0.43889695,  0.356319  ,  0.33515787,\n",
       "         0.34755333,  0.39827356,  0.33343647,  0.34946622,  0.33286731,\n",
       "         0.34964742,  0.33372228,  0.34748148,  0.33453532,  0.33742388,\n",
       "         0.3509285 ,  0.38892229,  0.34830104,  0.33490727,  0.42473591,\n",
       "         0.33396376,  0.33996475,  0.36382794,  0.33976028,  0.41353577,\n",
       "         0.35314705,  0.36122927,  0.34098997,  0.33570203,  0.39912056,\n",
       "         0.36592034,  0.37792393,  0.38124084,  0.33550295,  0.33828777,\n",
       "         0.35031585,  0.33329011,  0.40778072,  0.34108304,  0.41443638,\n",
       "         0.33903774,  0.35546325,  0.39368044,  0.3384421 ,  0.42852173,\n",
       "         0.33293486,  0.33676579,  0.3462098 ,  0.34034612,  0.35342447,\n",
       "         0.34066301,  0.4237411 ,  0.35377519,  0.34431377,  0.3934803 ,\n",
       "         0.3366282 ,  0.33308149,  0.3352029 ,  0.3468667 ,  0.39758782,\n",
       "         0.385285  ,  0.37516621,  0.33276283,  0.3900581 ,  0.42389585,\n",
       "         0.33587391,  0.34530168,  0.33625163,  0.37753426,  0.34678463,\n",
       "         0.38139023,  0.33747969,  0.3534892 ,  0.33368768,  0.35124528,\n",
       "         0.3329887 ,  0.402758  ,  0.41865735,  0.36941339,  0.35013661,\n",
       "         0.35798286,  0.34811993,  0.35786736,  0.33690744,  0.36803679,\n",
       "         0.33297442,  0.33300756,  0.34201435,  0.38064394,  0.35932865,\n",
       "         0.40046516,  0.33323197,  0.39410177,  0.33896532,  0.38795625,\n",
       "         0.34231253,  0.33581492,  0.3735036 ,  0.33804379,  0.33830298,\n",
       "         0.3358004 ,  0.39973425,  0.35570146,  0.33685891,  0.33274185,\n",
       "         0.33501452,  0.33295368,  0.33316273,  0.33356345,  0.34417702,\n",
       "         0.34512038,  0.33381301,  0.37903872,  0.3797823 ,  0.37704004,\n",
       "         0.39683509,  0.3531435 ,  0.37310003,  0.33513418,  0.38147656,\n",
       "         0.33615197,  0.33820927,  0.35850893,  0.34805293,  0.33274417,\n",
       "         0.33848921,  0.41715881,  0.34770731,  0.33376751,  0.34031644,\n",
       "         0.37113849,  0.39226568,  0.33286503,  0.39840739,  0.40019329,\n",
       "         0.39860811,  0.33727481,  0.3477632 ,  0.33696704,  0.33679059,\n",
       "         0.33318217,  0.39079229,  0.33505321,  0.33604449,  0.36829372,\n",
       "         0.38666594,  0.33352035,  0.33485356,  0.36060341,  0.33564612,\n",
       "         0.41670908,  0.35928796,  0.4341766 ,  0.33732212,  0.37660779,\n",
       "         0.33355615,  0.33403166,  0.33479968,  0.41929437,  0.38232033,\n",
       "         0.33530842,  0.33397881,  0.33329778,  0.33420389,  0.39911399,\n",
       "         0.37841808,  0.33350655,  0.33954993,  0.35175743,  0.33340291,\n",
       "         0.38640658,  0.33448863,  0.33799299,  0.35913737,  0.35047125,\n",
       "         0.33391684,  0.35343215,  0.33280628,  0.33706634,  0.40276226,\n",
       "         0.36020839,  0.34851429,  0.33286001,  0.33895626,  0.34226845,\n",
       "         0.34437684,  0.3355436 ,  0.34758396,  0.33772471,  0.38272102,\n",
       "         0.34175091,  0.33590827,  0.33552954,  0.35983694,  0.36476879,\n",
       "         0.35062124,  0.35968889,  0.33442969,  0.37486996,  0.34749314,\n",
       "         0.33275698,  0.34992993,  0.39736545,  0.34364432,  0.34234202,\n",
       "         0.33478439,  0.33502415,  0.33639666,  0.41904021,  0.33324072,\n",
       "         0.33563567,  0.4260833 ,  0.33601058,  0.33325928,  0.38643478,\n",
       "         0.34652424,  0.35466308,  0.33393866,  0.35570041,  0.37979369,\n",
       "         0.33298833,  0.38104834,  0.35680226,  0.35653428,  0.33532534,\n",
       "         0.33675126,  0.35205884,  0.36430531,  0.34040775,  0.33794171,\n",
       "         0.33311441,  0.33550138,  0.36302353,  0.36850873,  0.33359108,\n",
       "         0.33707585,  0.34957866,  0.40986593,  0.35011246,  0.33957233,\n",
       "         0.33452134,  0.33392009,  0.33370381,  0.3363353 ,  0.4049083 ,\n",
       "         0.34841716,  0.34725468,  0.34714194,  0.37870888,  0.35497128,\n",
       "         0.387776  ,  0.3373204 ,  0.42668683,  0.35227265,  0.33495645,\n",
       "         0.34863286,  0.3488869 ,  0.33795246,  0.34862643,  0.36388823,\n",
       "         0.35489945,  0.33288712,  0.33334394,  0.34416212,  0.38251422,\n",
       "         0.33474289,  0.36518484,  0.33398754,  0.413117  ,  0.34731103,\n",
       "         0.33988903,  0.33561027,  0.38899542,  0.35423147,  0.33274149,\n",
       "         0.34955346,  0.34795436,  0.3375132 ,  0.33937677,  0.38012782,\n",
       "         0.39980504,  0.35628914,  0.34185566,  0.4122465 ,  0.33311747,\n",
       "         0.36168217,  0.34317656,  0.33282338,  0.35000716,  0.33305455,\n",
       "         0.33416783,  0.33977371,  0.34890691,  0.34871856,  0.37281662,\n",
       "         0.39006045,  0.332995  ,  0.34575296,  0.33279536,  0.35767868,\n",
       "         0.34283251,  0.4213272 ,  0.3420253 ,  0.33475708,  0.35835205]))"
      ]
     },
     "execution_count": 20,
     "metadata": {},
     "output_type": "execute_result"
    }
   ],
   "source": [
    "pfolio_returns = []\n",
    "pfolio_volatilities = []\n",
    "\n",
    "for x in range(1000):\n",
    "    weights = np.random.random(num_assets)\n",
    "    weights /= np.sum(weights)\n",
    "    pfolio_returns.append(np.sum(weights * log_returns.mean())*250)\n",
    "    pfolio_volatilities.append(np.sqrt(np.dot(weights.T, np.dot(log_returns.cov() * 250, weights))))\n",
    "    \n",
    "pfolio_returns = np.array(pfolio_returns)\n",
    "pfolio_volatilities = np.array(pfolio_volatilities)\n",
    "\n",
    "pfolio_returns, pfolio_volatilities"
   ]
  },
  {
   "cell_type": "code",
   "execution_count": 25,
   "metadata": {
    "collapsed": true
   },
   "outputs": [],
   "source": [
    "portfolios = pd.DataFrame({'Return': pfolio_returns, 'Volatility': pfolio_volatilities})"
   ]
  },
  {
   "cell_type": "code",
   "execution_count": 26,
   "metadata": {},
   "outputs": [
    {
     "data": {
      "text/html": [
       "<div>\n",
       "<style>\n",
       "    .dataframe thead tr:only-child th {\n",
       "        text-align: right;\n",
       "    }\n",
       "\n",
       "    .dataframe thead th {\n",
       "        text-align: left;\n",
       "    }\n",
       "\n",
       "    .dataframe tbody tr th {\n",
       "        vertical-align: top;\n",
       "    }\n",
       "</style>\n",
       "<table border=\"1\" class=\"dataframe\">\n",
       "  <thead>\n",
       "    <tr style=\"text-align: right;\">\n",
       "      <th></th>\n",
       "      <th>Return</th>\n",
       "      <th>Volatility</th>\n",
       "    </tr>\n",
       "  </thead>\n",
       "  <tbody>\n",
       "    <tr>\n",
       "      <th>0</th>\n",
       "      <td>0.820109</td>\n",
       "      <td>0.336045</td>\n",
       "    </tr>\n",
       "    <tr>\n",
       "      <th>1</th>\n",
       "      <td>0.645884</td>\n",
       "      <td>0.378858</td>\n",
       "    </tr>\n",
       "    <tr>\n",
       "      <th>2</th>\n",
       "      <td>0.812771</td>\n",
       "      <td>0.334835</td>\n",
       "    </tr>\n",
       "    <tr>\n",
       "      <th>3</th>\n",
       "      <td>0.675239</td>\n",
       "      <td>0.362053</td>\n",
       "    </tr>\n",
       "    <tr>\n",
       "      <th>4</th>\n",
       "      <td>0.861075</td>\n",
       "      <td>0.347633</td>\n",
       "    </tr>\n",
       "  </tbody>\n",
       "</table>\n",
       "</div>"
      ],
      "text/plain": [
       "     Return  Volatility\n",
       "0  0.820109    0.336045\n",
       "1  0.645884    0.378858\n",
       "2  0.812771    0.334835\n",
       "3  0.675239    0.362053\n",
       "4  0.861075    0.347633"
      ]
     },
     "execution_count": 26,
     "metadata": {},
     "output_type": "execute_result"
    }
   ],
   "source": [
    "portfolios.head()"
   ]
  },
  {
   "cell_type": "code",
   "execution_count": 27,
   "metadata": {},
   "outputs": [
    {
     "data": {
      "text/html": [
       "<div>\n",
       "<style>\n",
       "    .dataframe thead tr:only-child th {\n",
       "        text-align: right;\n",
       "    }\n",
       "\n",
       "    .dataframe thead th {\n",
       "        text-align: left;\n",
       "    }\n",
       "\n",
       "    .dataframe tbody tr th {\n",
       "        vertical-align: top;\n",
       "    }\n",
       "</style>\n",
       "<table border=\"1\" class=\"dataframe\">\n",
       "  <thead>\n",
       "    <tr style=\"text-align: right;\">\n",
       "      <th></th>\n",
       "      <th>Return</th>\n",
       "      <th>Volatility</th>\n",
       "    </tr>\n",
       "  </thead>\n",
       "  <tbody>\n",
       "    <tr>\n",
       "      <th>995</th>\n",
       "      <td>0.721160</td>\n",
       "      <td>0.342833</td>\n",
       "    </tr>\n",
       "    <tr>\n",
       "      <th>996</th>\n",
       "      <td>0.586857</td>\n",
       "      <td>0.421327</td>\n",
       "    </tr>\n",
       "    <tr>\n",
       "      <th>997</th>\n",
       "      <td>0.844653</td>\n",
       "      <td>0.342025</td>\n",
       "    </tr>\n",
       "    <tr>\n",
       "      <th>998</th>\n",
       "      <td>0.812231</td>\n",
       "      <td>0.334757</td>\n",
       "    </tr>\n",
       "    <tr>\n",
       "      <th>999</th>\n",
       "      <td>0.682622</td>\n",
       "      <td>0.358352</td>\n",
       "    </tr>\n",
       "  </tbody>\n",
       "</table>\n",
       "</div>"
      ],
      "text/plain": [
       "       Return  Volatility\n",
       "995  0.721160    0.342833\n",
       "996  0.586857    0.421327\n",
       "997  0.844653    0.342025\n",
       "998  0.812231    0.334757\n",
       "999  0.682622    0.358352"
      ]
     },
     "execution_count": 27,
     "metadata": {},
     "output_type": "execute_result"
    }
   ],
   "source": [
    "portfolios.tail()"
   ]
  },
  {
   "cell_type": "code",
   "execution_count": 28,
   "metadata": {},
   "outputs": [
    {
     "data": {
      "text/plain": [
       "<matplotlib.text.Text at 0x1142491d0>"
      ]
     },
     "execution_count": 28,
     "metadata": {},
     "output_type": "execute_result"
    },
    {
     "data": {
      "image/png": "[encoded data removed]",
      "text/plain": [
       "<matplotlib.figure.Figure at 0x114238780>"
      ]
     },
     "metadata": {},
     "output_type": "display_data"
    }
   ],
   "source": [
    "portfolios.plot(x = 'Volatility', y = 'Return', kind = 'scatter', figsize = (10,6));\n",
    "plt.xlabel('Expected Volatility')\n",
    "plt.ylabel('Expected Return')"
   ]
  },
  {
   "cell_type": "code",
   "execution_count": null,
   "metadata": {
    "collapsed": true
   },
   "outputs": [],
   "source": []
  }
 ],
 "metadata": {
  "kernelspec": {
   "display_name": "Python 3",
   "language": "python",
   "name": "python3"
  },
  "language_info": {
   "codemirror_mode": {
    "name": "ipython",
    "version": 3
   },
   "file_extension": ".py",
   "mimetype": "text/x-python",
   "name": "python",
   "nbconvert_exporter": "python",
   "pygments_lexer": "ipython3",
   "version": "3.6.1"
  }
 },
 "nbformat": 4,
 "nbformat_minor": 2
}
