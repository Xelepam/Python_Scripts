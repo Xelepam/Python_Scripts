{
 "cells": [
  {
   "cell_type": "code",
   "execution_count": 4,
   "metadata": {},
   "outputs": [
    {
     "data": {
      "text/plain": [
       "\"\\nThe key insight is that a stack reverses order (while a queue doesn't). \\nA sequence of elements pushed on a stack comes back in reversed order when \\npopped. Consequently, two stacks chained together will return elements \\nin the same order, since reversed order reversed again is original order.\\n\\nWe use an in-stack that we fill when an element is enqueued and the\\ndequeue operation takes elements from an out-stack. If the out-stack \\nis empty we pop all elements from the in-stack and push them \\nonto the out-stack.\\n\""
      ]
     },
     "execution_count": 4,
     "metadata": {},
     "output_type": "execute_result"
    }
   ],
   "source": [
    "\"\"\"\n",
    "The key insight is that a stack reverses order (while a queue doesn't). \n",
    "A sequence of elements pushed on a stack comes back in reversed order when \n",
    "popped. Consequently, two stacks chained together will return elements \n",
    "in the same order, since reversed order reversed again is original order.\n",
    "\n",
    "We use an in-stack that we fill when an element is enqueued and the\n",
    "dequeue operation takes elements from an out-stack. If the out-stack \n",
    "is empty we pop all elements from the in-stack and push them \n",
    "onto the out-stack.\n",
    "\"\"\""
   ]
  },
  {
   "cell_type": "code",
   "execution_count": 5,
   "metadata": {
    "collapsed": true
   },
   "outputs": [],
   "source": [
    "stack1 = []\n",
    "stack2 = []"
   ]
  },
  {
   "cell_type": "code",
   "execution_count": 6,
   "metadata": {
    "collapsed": true
   },
   "outputs": [],
   "source": [
    "class Queue2Stacks(object):\n",
    "    \n",
    "    def __init__(self):\n",
    "        \n",
    "        #Two stacks\n",
    "        self.instack = []\n",
    "        self.outstack = []\n",
    "        \n",
    "    def enqueue(self, element):\n",
    "        \n",
    "        #Add an enqueue with the \"IN\" stack\n",
    "        self.instack.append(element)\n",
    "        \n",
    "    def dequeue(self):\n",
    "        if not self.outstack:\n",
    "            while self.instack:\n",
    "                \n",
    "                #Add the elements to the outstack to reverse the order\n",
    "                self.outstack.append(self.instack.pop())\n",
    "                \n",
    "        return self.outstack.pop()"
   ]
  },
  {
   "cell_type": "code",
   "execution_count": 9,
   "metadata": {},
   "outputs": [
    {
     "name": "stdout",
     "output_type": "stream",
     "text": [
      "0\n",
      "1\n",
      "2\n",
      "3\n",
      "4\n"
     ]
    }
   ],
   "source": [
    "\"\"\"\n",
    "RUN THIS CELL TO CHECK THAT YOUR SOLUTION OUTPUT MAKES SENSE\n",
    "AND BEHAVES AS A QUEUE\n",
    "\"\"\"\n",
    "\n",
    "q = Queue2Stacks()\n",
    "\n",
    "for i in range(5):\n",
    "    q.enqueue(i)\n",
    "    \n",
    "for i in range(5):\n",
    "    print(q.dequeue())"
   ]
  },
  {
   "cell_type": "code",
   "execution_count": null,
   "metadata": {
    "collapsed": true
   },
   "outputs": [],
   "source": []
  }
 ],
 "metadata": {
  "kernelspec": {
   "display_name": "Python 3",
   "language": "python",
   "name": "python3"
  },
  "language_info": {
   "codemirror_mode": {
    "name": "ipython",
    "version": 3
   },
   "file_extension": ".py",
   "mimetype": "text/x-python",
   "name": "python",
   "nbconvert_exporter": "python",
   "pygments_lexer": "ipython3",
   "version": "3.6.2"
  }
 },
 "nbformat": 4,
 "nbformat_minor": 2
}
