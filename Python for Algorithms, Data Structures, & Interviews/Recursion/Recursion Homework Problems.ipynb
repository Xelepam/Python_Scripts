{
 "cells": [
  {
   "cell_type": "code",
   "execution_count": 3,
   "metadata": {
    "collapsed": true
   },
   "outputs": [],
   "source": [
    "#Problem 1: Write a recursive function which takes an integer and computes the cumulative sum of 0 to that integer\n",
    "#Ex: if n = 4, return 4+3+2+1+0 = 10\n",
    "\n",
    "def rec_sum(n):\n",
    "    \n",
    "    #Base Case:\n",
    "    if n == 0:\n",
    "        return 0\n",
    "    \n",
    "    else:\n",
    "        return "
   ]
  },
  {
   "cell_type": "code",
   "execution_count": 4,
   "metadata": {},
   "outputs": [],
   "source": [
    "rec_sum(4)"
   ]
  },
  {
   "cell_type": "code",
   "execution_count": 5,
   "metadata": {
    "collapsed": true
   },
   "outputs": [],
   "source": [
    "#Problem 2: Given an integer, create a function which returns the sum of all the individual digits in that integer. \n",
    "#Ex: if n = 4321, return 4+3+2+1\n",
    "#Hint: You'll need to use modulo %\n",
    "\n",
    "def sum_func(n):\n",
    "    pass"
   ]
  },
  {
   "cell_type": "code",
   "execution_count": null,
   "metadata": {
    "collapsed": true
   },
   "outputs": [],
   "source": [
    "#Problem 3: Create a function called word_split() which takes in a string phrase and a set list_of_words.\n",
    "#The function will then determine if it is possible to split the string in a way in which words can be made\n",
    "#from the list of words. You can assume the phrase will only contain words found in the dictionary if it is\n",
    "#completely splittable.\n",
    "#Ex: word_split('themanran', ['the','ran','man']) returns ['the', 'man', 'ran']\n",
    "#Ex: word_split('ilovedogsJohn', ['i', 'am', 'a', 'dogs', 'lover', 'love', 'John']) returns ['i', 'love', 'dogs', 'John']\n",
    "#Ex: word_split('themanran', ['clown', 'ran', 'man']) returns []\n",
    "\n",
    "def word_split(phrase, list_of_words, output = None):\n",
    "    pass"
   ]
  }
 ],
 "metadata": {
  "kernelspec": {
   "display_name": "Python 3",
   "language": "python",
   "name": "python3"
  },
  "language_info": {
   "codemirror_mode": {
    "name": "ipython",
    "version": 3
   },
   "file_extension": ".py",
   "mimetype": "text/x-python",
   "name": "python",
   "nbconvert_exporter": "python",
   "pygments_lexer": "ipython3",
   "version": "3.6.2"
  }
 },
 "nbformat": 4,
 "nbformat_minor": 2
}
