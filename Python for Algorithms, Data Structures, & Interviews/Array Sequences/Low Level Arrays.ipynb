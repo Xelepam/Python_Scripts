{
 "cells": [
  {
   "cell_type": "code",
   "execution_count": 1,
   "metadata": {
    "collapsed": true
   },
   "outputs": [],
   "source": [
    "#How computers store information:\n",
    "#1. Focus on computer memory\n",
    "#2. Memory address\n",
    "#3. Units of memory (bits and bytes)\n",
    "#4. Memory retrieval "
   ]
  },
  {
   "cell_type": "code",
   "execution_count": 2,
   "metadata": {
    "collapsed": true
   },
   "outputs": [],
   "source": [
    "#Memory of a computer stored in  bits\n",
    "#Typical unit is byte, which is 8 bits\n",
    "#Computers typically use a memory address\n",
    "#Each byte associated with unique address\n",
    "    #Ex. byte #2144 vs. byte #2147"
   ]
  },
  {
   "cell_type": "code",
   "execution_count": 3,
   "metadata": {
    "collapsed": true
   },
   "outputs": [],
   "source": [
    "#Computer hardware is designed, in theory, so that any byte of the main memory can be efficiently accessed\n",
    "#Computer's main memory performs as Random Access Memory (RAM)\n",
    "#Just as easy to retrieve byte #8675309 as it is to retrieve byte #309\n",
    "#Individual byte of memory can be stored or retrieved in O(1) time"
   ]
  },
  {
   "cell_type": "code",
   "execution_count": 4,
   "metadata": {
    "collapsed": true
   },
   "outputs": [],
   "source": [
    "#Programming language keeps track of the association between an identifier and the memory address\n",
    "#May want a video game to keep track of the top ten scores for that game\n",
    "    #Prefer to use a single name for the group\n",
    "        #Use index numbers to refer to the high scores in that group"
   ]
  },
  {
   "cell_type": "code",
   "execution_count": 7,
   "metadata": {
    "collapsed": true
   },
   "outputs": [],
   "source": [
    "#A group of related variables can be stored one after another in a contiguous portion of the computer's memory\n",
    "#We will denote such a representation as an ARRAY\n",
    "#A text string is stored as an ordered sequence of individual characters\n",
    "#Python internally represents each Unicode character with 16 bits (i.e., 2 bytes) "
   ]
  },
  {
   "cell_type": "code",
   "execution_count": 9,
   "metadata": {
    "collapsed": true
   },
   "outputs": [],
   "source": [
    "#Each location within an array is a cell\n",
    "#Integer index to describe its location\n",
    "#Each cell of an array uses the same number of bytes\n",
    "#Allows any cell to be accessed in constant time\n",
    "#Appropriate memory address can be computed using the calculation: start + (cellsize)(index) "
   ]
  },
  {
   "cell_type": "code",
   "execution_count": 10,
   "metadata": {
    "collapsed": true
   },
   "outputs": [],
   "source": [
    "#Referential Arrays\n",
    "#Imagine 100 student names with ID numbers\n",
    "    #Each cell of the array needs to have the same number of bytes\n",
    "        #How can we avoid having to have a series of names?\n",
    "            #We can use an array of the object References"
   ]
  },
  {
   "cell_type": "code",
   "execution_count": 11,
   "metadata": {
    "collapsed": true
   },
   "outputs": [],
   "source": [
    "#A single list instance may include multiple references to the same object as elements of the list\n",
    "#Single object can be an element of two or more lists\n",
    "#When computing the slice of a list, the result is a new list instance \n",
    "#New list has references to the same elements that are in the original list"
   ]
  },
  {
   "cell_type": "code",
   "execution_count": null,
   "metadata": {
    "collapsed": true
   },
   "outputs": [],
   "source": []
  }
 ],
 "metadata": {
  "kernelspec": {
   "display_name": "Python 3",
   "language": "python",
   "name": "python3"
  },
  "language_info": {
   "codemirror_mode": {
    "name": "ipython",
    "version": 3
   },
   "file_extension": ".py",
   "mimetype": "text/x-python",
   "name": "python",
   "nbconvert_exporter": "python",
   "pygments_lexer": "ipython3",
   "version": "3.6.2"
  }
 },
 "nbformat": 4,
 "nbformat_minor": 2
}
