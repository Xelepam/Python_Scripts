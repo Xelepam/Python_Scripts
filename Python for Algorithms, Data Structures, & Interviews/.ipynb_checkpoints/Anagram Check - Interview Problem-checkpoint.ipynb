{
 "cells": [
  {
   "cell_type": "code",
   "execution_count": 1,
   "metadata": {
    "collapsed": true
   },
   "outputs": [],
   "source": [
    "#Given two strings, check to see if they are anagrams. \n",
    "#In other words, two strings that can be written using the exact same letters.\n",
    "\n",
    "#Ex. \"public relations\" is an anagram of \"crap built on lies\".\n",
    "#Ex. \"clint eastwood\" is an anagram of \"old west action\".\n",
    "\n",
    "#Note: Ignore space and capitalization. So \"d go\" is an anagram of \"God\", \"dog\", and \"o d g\"."
   ]
  },
  {
   "cell_type": "code",
   "execution_count": 4,
   "metadata": {
    "collapsed": true
   },
   "outputs": [],
   "source": [
    "#Create anagram checker\n",
    "\n",
    "def anagram(str1, str2):\n",
    "    \n",
    "    #rtype: Stands for \"return type\"\n",
    "    \n",
    "    \"\"\"\n",
    "    type str1: string\n",
    "    type str2: string\n",
    "    rtype: boolean\n",
    "    \"\"\"\n",
    "    \n",
    "    str1 = str1.replace(' ', '').lower()\n",
    "    str2 = str2.replace(' ', '').lower()\n",
    "    \n",
    "    if (len(str1) != len(str2)):\n",
    "        return False\n",
    "    \n",
    "    counter = {}\n",
    "    for letter in str1:\n",
    "        if letter in counter:\n",
    "            counter[letter] += 1\n",
    "        else:\n",
    "            counter[letter] = 1\n",
    "            \n",
    "    for letter in str2:\n",
    "        if letter in counter:\n",
    "            counter[letter] -= 1\n",
    "        else:\n",
    "            return False\n",
    "        \n",
    "    for k in counter:\n",
    "        if counter[k] != 0:\n",
    "            return False\n",
    "    \n",
    "    return True\n",
    "    pass"
   ]
  },
  {
   "cell_type": "code",
   "execution_count": 5,
   "metadata": {},
   "outputs": [
    {
     "data": {
      "text/plain": [
       "True"
      ]
     },
     "execution_count": 5,
     "metadata": {},
     "output_type": "execute_result"
    }
   ],
   "source": [
    "anagram('dog', 'god')"
   ]
  },
  {
   "cell_type": "code",
   "execution_count": 9,
   "metadata": {},
   "outputs": [
    {
     "name": "stdout",
     "output_type": "stream",
     "text": [
      "ALL TEST CASES PASSED\n"
     ]
    }
   ],
   "source": [
    "#Test the solution\n",
    "\n",
    "\"\"\"\n",
    "RUN THIS CELL TO TEST SOLUTION\n",
    "\"\"\"\n",
    "\n",
    "from nose.tools import assert_equal \n",
    "\n",
    "class AnagramTest(object):\n",
    "    \n",
    "    def anag_test(self, sol):\n",
    "        assert_equal(sol('go go go', 'gggooo'), True)\n",
    "        assert_equal(sol('abc','cba'), True)\n",
    "        assert_equal(sol('hi man','hi     man'), True)\n",
    "        assert_equal(sol('aabbcc','aabbc'), False)\n",
    "        assert_equal(sol('123','1 2'), False)\n",
    "        print('ALL TEST CASES PASSED')\n",
    "        \n",
    "#Run test\n",
    "t = AnagramTest()\n",
    "t.anag_test(anagram)"
   ]
  },
  {
   "cell_type": "code",
   "execution_count": null,
   "metadata": {
    "collapsed": true
   },
   "outputs": [],
   "source": []
  },
  {
   "cell_type": "code",
   "execution_count": null,
   "metadata": {
    "collapsed": true
   },
   "outputs": [],
   "source": []
  }
 ],
 "metadata": {
  "kernelspec": {
   "display_name": "Python 3",
   "language": "python",
   "name": "python3"
  },
  "language_info": {
   "codemirror_mode": {
    "name": "ipython",
    "version": 3
   },
   "file_extension": ".py",
   "mimetype": "text/x-python",
   "name": "python",
   "nbconvert_exporter": "python",
   "pygments_lexer": "ipython3",
   "version": "3.6.2"
  }
 },
 "nbformat": 4,
 "nbformat_minor": 2
}
