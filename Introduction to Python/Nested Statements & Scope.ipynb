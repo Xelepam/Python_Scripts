{
 "cells": [
  {
   "cell_type": "code",
   "execution_count": 4,
   "metadata": {},
   "outputs": [],
   "source": [
    "x = 25\n",
    "\n",
    "def printer():\n",
    "    x = 50\n",
    "    return x"
   ]
  },
  {
   "cell_type": "code",
   "execution_count": 6,
   "metadata": {},
   "outputs": [
    {
     "name": "stdout",
     "output_type": "stream",
     "text": [
      "25\n",
      "50\n"
     ]
    }
   ],
   "source": [
    "print (x)\n",
    "print (printer())"
   ]
  },
  {
   "cell_type": "code",
   "execution_count": 7,
   "metadata": {
    "collapsed": true
   },
   "outputs": [],
   "source": [
    "#x is a local here\n",
    "f = lambda x: x**2"
   ]
  },
  {
   "cell_type": "code",
   "execution_count": 8,
   "metadata": {},
   "outputs": [
    {
     "data": {
      "text/plain": [
       "4"
      ]
     },
     "execution_count": 8,
     "metadata": {},
     "output_type": "execute_result"
    }
   ],
   "source": [
    "f(2)"
   ]
  },
  {
   "cell_type": "code",
   "execution_count": 12,
   "metadata": {},
   "outputs": [
    {
     "name": "stdout",
     "output_type": "stream",
     "text": [
      "Hello Karina\n"
     ]
    }
   ],
   "source": [
    "#Enclosing function locals\n",
    "name = 'Omar is a global name'\n",
    "\n",
    "def greet():\n",
    "    #Enclosing function\n",
    "    name = 'Karina'\n",
    "    \n",
    "    def hello():\n",
    "        print ('Hello', name)\n",
    "    \n",
    "    hello()\n",
    "    \n",
    "greet()"
   ]
  },
  {
   "cell_type": "code",
   "execution_count": 13,
   "metadata": {},
   "outputs": [
    {
     "name": "stdout",
     "output_type": "stream",
     "text": [
      "Omar is a global name\n"
     ]
    }
   ],
   "source": [
    "#Global\n",
    "print(name)"
   ]
  },
  {
   "cell_type": "code",
   "execution_count": 15,
   "metadata": {},
   "outputs": [
    {
     "data": {
      "text/plain": [
       "<function len>"
      ]
     },
     "execution_count": 15,
     "metadata": {},
     "output_type": "execute_result"
    }
   ],
   "source": [
    "#Built-in\n",
    "len"
   ]
  },
  {
   "cell_type": "code",
   "execution_count": 17,
   "metadata": {},
   "outputs": [
    {
     "name": "stdout",
     "output_type": "stream",
     "text": [
      "x is: 50\n",
      "Changed local x to: 2\n",
      "x is still: 50\n"
     ]
    }
   ],
   "source": [
    "#Local Variables \n",
    "x = 50\n",
    "\n",
    "def func(x):\n",
    "    print ('x is:', x)\n",
    "    x=2\n",
    "    print ('Changed local x to:', x)\n",
    "    \n",
    "func(x)\n",
    "print('x is still:', x)"
   ]
  },
  {
   "cell_type": "code",
   "execution_count": 21,
   "metadata": {},
   "outputs": [
    {
     "name": "stdout",
     "output_type": "stream",
     "text": [
      "Before calling func(), y is: 200\n",
      "This function is now using the global y.\n",
      "Because of global, y is: 200\n",
      "Ran func(), changed global y to: 20\n",
      "Value of y, outside of func() is now: 20\n"
     ]
    }
   ],
   "source": [
    "#The Global Statement \n",
    "\n",
    "y = 200\n",
    "\n",
    "def func():\n",
    "    global y\n",
    "    print ('This function is now using the global y.')\n",
    "    print ('Because of global, y is:', y)\n",
    "    y = 20\n",
    "    print ('Ran func(), changed global y to:', y)\n",
    "    \n",
    "print ('Before calling func(), y is:', y)\n",
    "func()\n",
    "print ('Value of y, outside of func() is now:', y)"
   ]
  },
  {
   "cell_type": "code",
   "execution_count": null,
   "metadata": {
    "collapsed": true
   },
   "outputs": [],
   "source": []
  }
 ],
 "metadata": {
  "kernelspec": {
   "display_name": "Python 3",
   "language": "python",
   "name": "python3"
  },
  "language_info": {
   "codemirror_mode": {
    "name": "ipython",
    "version": 3
   },
   "file_extension": ".py",
   "mimetype": "text/x-python",
   "name": "python",
   "nbconvert_exporter": "python",
   "pygments_lexer": "ipython3",
   "version": "3.6.1"
  }
 },
 "nbformat": 4,
 "nbformat_minor": 2
}
