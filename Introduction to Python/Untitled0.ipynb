{
 "metadata": {
  "name": "",
  "signature": "sha256:6f299de98a5dc6ab5a8c3b83a9db76e94c1bb553847b82bbbd945300bdc393e7"
 },
 "nbformat": 3,
 "nbformat_minor": 0,
 "worksheets": [
  {
   "cells": [
    {
     "cell_type": "code",
     "collapsed": false,
     "input": [
      "import numpy as np\n",
      "test_matrix = np.matrix(np.ones(26)[1:]).reshape(5,5)\n",
      "new_test_matrix = test_matrix*2"
     ],
     "language": "python",
     "metadata": {},
     "outputs": [],
     "prompt_number": 7
    },
    {
     "cell_type": "code",
     "collapsed": false,
     "input": [
      "new_test_matrix*test_matrix"
     ],
     "language": "python",
     "metadata": {},
     "outputs": [
      {
       "metadata": {},
       "output_type": "pyout",
       "prompt_number": 9,
       "text": [
        "matrix([[ 10.,  10.,  10.,  10.,  10.],\n",
        "        [ 10.,  10.,  10.,  10.,  10.],\n",
        "        [ 10.,  10.,  10.,  10.,  10.],\n",
        "        [ 10.,  10.,  10.,  10.,  10.],\n",
        "        [ 10.,  10.,  10.,  10.,  10.]])"
       ]
      }
     ],
     "prompt_number": 9
    },
    {
     "cell_type": "code",
     "collapsed": false,
     "input": [],
     "language": "python",
     "metadata": {},
     "outputs": []
    }
   ],
   "metadata": {}
  }
 ]
}