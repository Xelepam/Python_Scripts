{
 "cells": [
  {
   "cell_type": "code",
   "execution_count": 2,
   "metadata": {},
   "outputs": [],
   "source": [
    "from collections import Counter"
   ]
  },
  {
   "cell_type": "code",
   "execution_count": 3,
   "metadata": {},
   "outputs": [
    {
     "data": {
      "text/plain": [
       "Counter({1: 4, 2: 9, 3: 6, 4: 3, 5: 3, 12: 1})"
      ]
     },
     "execution_count": 3,
     "metadata": {},
     "output_type": "execute_result"
    }
   ],
   "source": [
    "l = [1,1,1,1,12,2,2,2,2,2,2,2,2,2,3,3,3,3,3,3,4,4,4,5,5,5] \n",
    "\n",
    "Counter(l)"
   ]
  },
  {
   "cell_type": "code",
   "execution_count": 4,
   "metadata": {},
   "outputs": [
    {
     "data": {
      "text/plain": [
       "Counter({'a': 2, 'e': 1, 'f': 4, 'i': 1, 's': 3, 't': 3, 'v': 2})"
      ]
     },
     "execution_count": 4,
     "metadata": {},
     "output_type": "execute_result"
    }
   ],
   "source": [
    "s = 'asssvvattteiffff'\n",
    "Counter(s)"
   ]
  },
  {
   "cell_type": "code",
   "execution_count": 13,
   "metadata": {},
   "outputs": [
    {
     "data": {
      "text/plain": [
       "[('word', 3), ('up', 3)]"
      ]
     },
     "execution_count": 13,
     "metadata": {},
     "output_type": "execute_result"
    }
   ],
   "source": [
    "a = 'How many times does each word show up in this sentence word word show up up'\n",
    "words = a.split()\n",
    "c = Counter(words)\n",
    "c.most_common(2)"
   ]
  },
  {
   "cell_type": "code",
   "execution_count": 21,
   "metadata": {},
   "outputs": [
    {
     "name": "stdout",
     "output_type": "stream",
     "text": [
      "['How', 'many', 'times', 'does', 'each', 'word', 'show', 'up', 'in', 'this', 'sentence']\n",
      "{'word', 'sentence', 'many', 'in', 'each', 'does', 'this', 'show', 'How', 'times', 'up'}\n",
      "{'How': 1, 'many': 1, 'times': 1, 'does': 1, 'each': 1, 'word': 3, 'show': 2, 'up': 3, 'in': 1, 'this': 1, 'sentence': 1}\n",
      "dict_items([('How', 1), ('many', 1), ('times', 1), ('does', 1), ('each', 1), ('word', 3), ('show', 2), ('up', 3), ('in', 1), ('this', 1), ('sentence', 1)])\n",
      "[('sentence', 1), ('this', 1), ('in', 1)]\n"
     ]
    }
   ],
   "source": [
    "sum(c.values())\n",
    "print(list(c))\n",
    "print(set(c))\n",
    "print(dict(c))\n",
    "print(c.items())\n",
    "print(c.most_common()[:-3-1:-1])"
   ]
  },
  {
   "cell_type": "code",
   "execution_count": null,
   "metadata": {
    "collapsed": true
   },
   "outputs": [],
   "source": []
  }
 ],
 "metadata": {
  "kernelspec": {
   "display_name": "Python 3",
   "language": "python",
   "name": "python3"
  },
  "language_info": {
   "codemirror_mode": {
    "name": "ipython",
    "version": 3
   },
   "file_extension": ".py",
   "mimetype": "text/x-python",
   "name": "python",
   "nbconvert_exporter": "python",
   "pygments_lexer": "ipython3",
   "version": "3.6.1"
  }
 },
 "nbformat": 4,
 "nbformat_minor": 2
}
