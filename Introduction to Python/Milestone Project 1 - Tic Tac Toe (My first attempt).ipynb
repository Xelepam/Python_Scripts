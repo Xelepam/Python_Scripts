{
 "cells": [
  {
   "cell_type": "code",
   "execution_count": 1,
   "metadata": {
    "collapsed": true
   },
   "outputs": [],
   "source": [
    "#1\n",
    "from IPython.display import clear_output\n",
    "\n",
    "#Position on Board\n",
    "marker_pos = [1,2,3,4,5,6,7,8,9] "
   ]
  },
  {
   "cell_type": "code",
   "execution_count": 2,
   "metadata": {
    "collapsed": true
   },
   "outputs": [],
   "source": [
    "#2\n",
    "\n",
    "#X or O\n",
    "marker_type = [' ',' ',' ',' ',' ',' ',' ',' ',' ']    "
   ]
  },
  {
   "cell_type": "code",
   "execution_count": 3,
   "metadata": {
    "scrolled": true
   },
   "outputs": [
    {
     "name": "stdout",
     "output_type": "stream",
     "text": [
      "|1|2|3|\n",
      "|4|5|6|\n",
      "|7|8|9|\n",
      "\n"
     ]
    }
   ],
   "source": [
    "#3\n",
    "\n",
    "def disp_board(): \n",
    "    board_layout = '|{}|{}|{}|\\n'*3\n",
    "    marker_pos = [1,2,3,4,5,6,7,8,9]\n",
    "    print(board_layout.format(*marker_pos))\n",
    "    \n",
    "disp_board()"
   ]
  },
  {
   "cell_type": "code",
   "execution_count": null,
   "metadata": {},
   "outputs": [
    {
     "name": "stdout",
     "output_type": "stream",
     "text": [
      "Marker: x\n",
      "Position: 4\n",
      "[['x', 4]]\n"
     ]
    }
   ],
   "source": [
    "#4 'input marker + a given number and store it to a\n",
    "### list at that appendix.\n",
    "\n",
    "def input_marker():\n",
    "    \n",
    "    marker_list = []\n",
    "    max_marker_inputs = 9\n",
    "    \n",
    "    while len(marker_list) < max_marker_inputs:\n",
    "        marker = input('Marker: ')\n",
    "        marker_pos = int(input('Position: '))\n",
    "        \n",
    "        master_marker_list = [marker, marker_pos]\n",
    "        marker_list.append(master_marker_list)\n",
    "        \n",
    "        #marker_list.insert(marker_pos, marker)\n",
    "        #marker_list.append(obj)\n",
    "        \n",
    "        print(marker_list)\n",
    "    print('Done.')\n",
    "    \n",
    "input_marker()"
   ]
  },
  {
   "cell_type": "code",
   "execution_count": null,
   "metadata": {
    "collapsed": true
   },
   "outputs": [],
   "source": []
  }
 ],
 "metadata": {
  "kernelspec": {
   "display_name": "Python 3",
   "language": "python",
   "name": "python3"
  },
  "language_info": {
   "codemirror_mode": {
    "name": "ipython",
    "version": 3
   },
   "file_extension": ".py",
   "mimetype": "text/x-python",
   "name": "python",
   "nbconvert_exporter": "python",
   "pygments_lexer": "ipython3",
   "version": "3.6.1"
  }
 },
 "nbformat": 4,
 "nbformat_minor": 2
}
